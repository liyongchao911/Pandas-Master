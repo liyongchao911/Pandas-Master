{
 "cells": [
  {
   "cell_type": "markdown",
   "metadata": {},
   "source": [
    "## 一、str对象\n",
    "### 1. str对象的设计意图\n",
    "str 对象是定义在 Index 或 Series 上的属性，专门用于逐元素处理文本内容，其内部定义了大量方法，因此对一个序列进行文本处理，首先需要获取其 str 对象。在Python标准库中也有 str 模块，为了使用上的便利，有许多函数的用法 pandas 照搬了它的设计，例如字母转为大写的操作："
   ]
  },
  {
   "cell_type": "code",
   "execution_count": 10,
   "metadata": {},
   "outputs": [
    {
     "data": {
      "text/plain": [
       "'ABCD'"
      ]
     },
     "execution_count": 10,
     "metadata": {},
     "output_type": "execute_result"
    }
   ],
   "source": [
    "import pandas as pd\n",
    "import numpy as np\n",
    "\n",
    "str1 = 'abcd'\n",
    "str.upper(str1)"
   ]
  },
  {
   "cell_type": "code",
   "execution_count": 11,
   "metadata": {},
   "outputs": [
    {
     "data": {
      "text/plain": [
       "<pandas.core.strings.accessor.StringMethods at 0x1ca811cbf40>"
      ]
     },
     "execution_count": 11,
     "metadata": {},
     "output_type": "execute_result"
    }
   ],
   "source": [
    "s = pd.Series(['abcd', 'ef', 'gh'])\n",
    "s.str"
   ]
  },
  {
   "cell_type": "code",
   "execution_count": 12,
   "metadata": {},
   "outputs": [
    {
     "data": {
      "text/plain": [
       "0    ABCD\n",
       "1      EF\n",
       "2      GH\n",
       "dtype: object"
      ]
     },
     "execution_count": 12,
     "metadata": {},
     "output_type": "execute_result"
    }
   ],
   "source": [
    "s.str.upper()"
   ]
  },
  {
   "cell_type": "markdown",
   "metadata": {},
   "source": [
    "### 3 2. 2. []索引器\n",
    "对于 str 对象而言，可理解为其对字符串进行了序列化的操作，例如在一般的字符串中，通过 [] 可以取出某个位置的元素："
   ]
  },
  {
   "cell_type": "code",
   "execution_count": 13,
   "metadata": {},
   "outputs": [
    {
     "name": "stdout",
     "output_type": "stream",
     "text": [
      "a\n",
      "abc\n"
     ]
    }
   ],
   "source": [
    "print(str1[0])\n",
    "print(str1[:-1]) # 切片"
   ]
  },
  {
   "cell_type": "code",
   "execution_count": 14,
   "metadata": {},
   "outputs": [
    {
     "data": {
      "text/plain": [
       "0    abcd\n",
       "1      ef\n",
       "2      gh\n",
       "dtype: object"
      ]
     },
     "execution_count": 14,
     "metadata": {},
     "output_type": "execute_result"
    }
   ],
   "source": [
    "s"
   ]
  },
  {
   "cell_type": "code",
   "execution_count": 15,
   "metadata": {},
   "outputs": [
    {
     "data": {
      "text/plain": [
       "0    a\n",
       "1    e\n",
       "2    g\n",
       "dtype: object"
      ]
     },
     "execution_count": 15,
     "metadata": {},
     "output_type": "execute_result"
    }
   ],
   "source": [
    "s.str[0] # 取出每个元素的第一个元素"
   ]
  },
  {
   "cell_type": "code",
   "execution_count": 16,
   "metadata": {},
   "outputs": [
    {
     "data": {
      "text/plain": [
       "0    abc\n",
       "1      e\n",
       "2      g\n",
       "dtype: object"
      ]
     },
     "execution_count": 16,
     "metadata": {},
     "output_type": "execute_result"
    }
   ],
   "source": [
    "s.str[:-1]"
   ]
  },
  {
   "cell_type": "markdown",
   "metadata": {},
   "source": [
    "### 3. string类型\n",
    "在上一章提到，从 pandas 的 1.0.0 版本开始，引入了 string 类型，其引入的动机在于：\n",
    "1. 原来所有的字符串类型都会以 object 类型的 Series 进行存储，\n",
    "2. 但 object 类型只应当存储混合类型，例如同时存储浮点、字符串、字典、列表、自定义类型等，\n",
    "3. 因此字符串有必要同数值型或 category 一样，具有自己的数据存放类型，从而引入了 string 类型。"
   ]
  },
  {
   "cell_type": "markdown",
   "metadata": {},
   "source": [
    "## 二. 正则表达式基础"
   ]
  },
  {
   "cell_type": "markdown",
   "metadata": {},
   "source": [
    "- 正则表达式是一种按照某种正则模式，从左到右匹配字符串中内容的一种工具。\n",
    "- 在使用时需要先导入re模块\n",
    "- 下面使用python 中 re 模块的 findall 函数来匹配所有出现过但不重叠的模式，第一个参数是正则表达式，第二个参数是待匹配的字符串。"
   ]
  },
  {
   "cell_type": "code",
   "execution_count": 17,
   "metadata": {},
   "outputs": [
    {
     "data": {
      "text/plain": [
       "['Apple', 'Apple']"
      ]
     },
     "execution_count": 17,
     "metadata": {},
     "output_type": "execute_result"
    }
   ],
   "source": [
    "import re\n",
    "re.findall(r'Apple', 'Apple! This Is an Apple!')"
   ]
  },
  {
   "cell_type": "markdown",
   "metadata": {},
   "source": [
    " - 几条特殊原则\n",
    "   - 正则表达式通常都包含反斜杠“\\”，可以使用原始字符串来表示它们。模式元素(如 r'\\t'，等价于 '\\\\t')匹配相应的特殊字符\n",
    "   - 元字符\n",
    "     - '. ': 匹配除换行符以外的任意字符\n",
    "     - '*' : 匹配前面的子表达式零次或多次\n",
    "     - '+ ' ： 匹配前面的子表达式一次或多次\n",
    "     - ? : 匹配前面的子表达式零次或一次\n",
    "     - []: 字符类，匹配方括号中包含的任意字符\n",
    "     - {n,m} : 花括号，匹配前面字符至少 n 次，但是不超过 m 次\n",
    "     - (xyz): 字符组，按照确切的顺序匹配字符xyz"
   ]
  },
  {
   "cell_type": "markdown",
   "metadata": {},
   "source": [
    " 1. ^上尖符号表示以后面的字开头，$美元符号表示以后面的字符结尾"
   ]
  },
  {
   "cell_type": "code",
   "execution_count": 18,
   "metadata": {},
   "outputs": [
    {
     "name": "stdout",
     "output_type": "stream",
     "text": [
      "<re.Match object; span=(0, 19), match='bbccpython223234xky'>\n",
      "None\n",
      "<re.Match object; span=(0, 4), match='loop'>\n"
     ]
    }
   ],
   "source": [
    "str_1 = 'bbccpython223234xky'\n",
    "re1 = '^b.*'  # 以b开头，匹配后面任意字符\n",
    "re2 = '.*p$'\n",
    "res1 = re.match(re1, str_1)\n",
    "res2 = re.match(re2, str_1)\n",
    "res3 = re.match(re2, 'loop')\n",
    "print(res1)\n",
    "print(res2)\n",
    "print(res3)"
   ]
  },
  {
   "cell_type": "markdown",
   "metadata": {},
   "source": [
    " 2. \"?\"非贪婪模式，从左边开始匹配。没有?号为贪婪模式"
   ]
  },
  {
   "cell_type": "code",
   "execution_count": 19,
   "metadata": {},
   "outputs": [
    {
     "name": "stdout",
     "output_type": "stream",
     "text": [
      "byab\n",
      "booobbyab\n",
      "booob\n"
     ]
    }
   ],
   "source": [
    "new_str = 'acbooobbyabc' #提取中间的booob\n",
    "re_str1 = '.*(b.*b).*' #b不会成功，贪婪模式，从右边开始，匹配到byab\n",
    "re_str2 = '.*?(b.*b).*'  #不会成功，左边非贪婪，但是右边为贪婪模式，从右边开始，匹配到booobbyab\n",
    "re_str3 = '.*?(b.*?b).*' #成功\n",
    "\n",
    "print(re.match(re_str1, new_str).group(1))\n",
    "print(re.match(re_str2, new_str).group(1))\n",
    "print(re.match(re_str3, new_str).group(1))"
   ]
  },
  {
   "cell_type": "markdown",
   "metadata": {},
   "source": [
    " 3. '+'表示前面的字符至少出现一次"
   ]
  },
  {
   "cell_type": "code",
   "execution_count": 20,
   "metadata": {},
   "outputs": [
    {
     "name": "stdout",
     "output_type": "stream",
     "text": [
      "bb\n",
      "bbb\n"
     ]
    }
   ],
   "source": [
    "str5 = 'boooooobbbbo'\n",
    "re_str5 = '.*(b.*b).*'  #贪婪模式，匹配到bb，因为bb中间的\".*\" -任意字符0或者任意次\n",
    "re_str6 = '.*(b.+b).*'  #贪婪模式，匹配到bbb，因为bb中间的\".+\" -任意字符1次或者任意次（至少一次）\n",
    "print(re.match(re_str5, str5).group(1))\n",
    "print(re.match(re_str6, str5).group(1))"
   ]
  },
  {
   "cell_type": "markdown",
   "metadata": {},
   "source": [
    "4. {}的用法 {2},{2，}，{2，5}"
   ]
  },
  {
   "cell_type": "code",
   "execution_count": 21,
   "metadata": {},
   "outputs": [
    {
     "name": "stdout",
     "output_type": "stream",
     "text": [
      "booo\n",
      "booobybbobbbo\n"
     ]
    }
   ],
   "source": [
    "line = 'booobybbobbbo'\n",
    "re_str1 = '.*(bo{3})' # 匹配{}前面的字符n次，n为括号内的数\n",
    "re_str2 = '.*(^b.{3,})' #大于等于n次 \"o{1,}\" 等价于 \"o+\"。\"o{0,}\" 则等价于 \"o*\"\n",
    "print(re.match(re_str1, line).group(1))\n",
    "print(re.match(re_str2, line).group(1))"
   ]
  },
  {
   "cell_type": "markdown",
   "metadata": {},
   "source": [
    " 5. '[]'的3种用法\n",
    "5.1 [abcd], 匹配abcd中的任意一个字符\n",
    "5.2[^abcd], 匹配除了bcd中的任意一个字符\n",
    "5.3 [A-D], [0-9],[a-z],区间任意个字符 [A-Za-z0-9]表示任意字母和数字"
   ]
  },
  {
   "cell_type": "markdown",
   "metadata": {},
   "source": [
    " 6. 简写字符集\n",
    " -  6.1 - \\w 匹配所有字母、数字、下划线: [a-zA-Z0-9_]\n",
    " -  6.2- \\W 匹配非字母和数字的字符: [^\\w]\n",
    " -  6.3- \\d 匹配数字: [0-9]\n",
    " -  6.4- \\D 匹配非数字: [^\\d]\n",
    " -  6.5- \\s 匹配空格符: [\\t\\n\\f\\r\\p{Z}]\n",
    " -  6.6- \\S 匹配非空格符: [^\\s]\n",
    " -  6.7- \\B 匹配一组非空字符开头或结尾的位置，不代表具体字符"
   ]
  },
  {
   "cell_type": "markdown",
   "metadata": {},
   "source": [
    "## 二. str对象常用的方法"
   ]
  },
  {
   "cell_type": "markdown",
   "metadata": {},
   "source": [
    "### 2.1 split方法 str.split"
   ]
  },
  {
   "cell_type": "code",
   "execution_count": 22,
   "metadata": {},
   "outputs": [
    {
     "data": {
      "text/plain": [
       "['上海市', '黄浦区', '方浜中路', '249号']"
      ]
     },
     "execution_count": 22,
     "metadata": {},
     "output_type": "execute_result"
    }
   ],
   "source": [
    "s = '上海市/黄浦区/方浜中路/249号'\n",
    "s.split('/')"
   ]
  },
  {
   "cell_type": "markdown",
   "metadata": {},
   "source": [
    "### 2.2 合并，join"
   ]
  },
  {
   "cell_type": "code",
   "execution_count": 23,
   "metadata": {},
   "outputs": [
    {
     "name": "stdout",
     "output_type": "stream",
     "text": [
      "$125,000\n",
      "125000\n"
     ]
    }
   ],
   "source": [
    "# 举例： 一句代码 str($125,000) to int(125000) \n",
    "money = '$125,000'\n",
    "number = int(''.join(money.split('$')[1].split(',')))\n",
    "print(money)\n",
    "print(number)"
   ]
  },
  {
   "cell_type": "markdown",
   "metadata": {},
   "source": [
    "### 2.3 匹配"
   ]
  },
  {
   "cell_type": "markdown",
   "metadata": {},
   "source": [
    "\n",
    "- str.contains： 用于判断每个字符串是否包含正则表达式的字符|\n",
    "- str.startswith：用于判断是否以字符串为开始|\n",
    "- str.endswith：用于判断是否以字符串为结束|\n",
    "- str.match：每个字符串起始处是否符合给定正则表达式的字符|\n",
    "- str.find：从左到右第一次匹配的位置的索引|\n",
    "- str.rfind：从右到左第一次匹配的位置的索引|"
   ]
  },
  {
   "cell_type": "code",
   "execution_count": 24,
   "metadata": {},
   "outputs": [
    {
     "data": {
      "text/plain": [
       "0     True\n",
       "1     True\n",
       "2    False\n",
       "dtype: bool"
      ]
     },
     "execution_count": 24,
     "metadata": {},
     "output_type": "execute_result"
    }
   ],
   "source": [
    "s = pd.Series(['my cat', 'he is fat', 'railway station'])\n",
    "s.str.contains('\\s\\wat')"
   ]
  },
  {
   "cell_type": "code",
   "execution_count": 25,
   "metadata": {},
   "outputs": [
    {
     "data": {
      "text/plain": [
       "0     True\n",
       "1     True\n",
       "2    False\n",
       "dtype: bool"
      ]
     },
     "execution_count": 25,
     "metadata": {},
     "output_type": "execute_result"
    }
   ],
   "source": [
    "s.str.match('m|h')"
   ]
  },
  {
   "cell_type": "markdown",
   "metadata": {},
   "source": [
    "### 2.4 替换\n",
    "str.replace 和 replace 并不是一个函数，在使用字符串替换时应当使用前者。"
   ]
  },
  {
   "cell_type": "code",
   "execution_count": 26,
   "metadata": {},
   "outputs": [
    {
     "data": {
      "text/plain": [
       "0    a_new_b\n",
       "1      c_new\n",
       "dtype: object"
      ]
     },
     "execution_count": 26,
     "metadata": {},
     "output_type": "execute_result"
    }
   ],
   "source": [
    "s = pd.Series(['a_1_b','c_?'])\n",
    "s.str.replace('\\d|\\?', 'new', regex=True)"
   ]
  },
  {
   "cell_type": "markdown",
   "metadata": {},
   "source": [
    "### 2.5 提取\n",
    "提取既可以认为是一种返回具体元素（而不是布尔值或元素对应的索引位置）的匹配操作，也可以认为是一种特殊的拆分操作。前面提到的 str.split 例子中会把分隔符去除，这并不是用户想要的效果，这时候就可以用 str.extract 进行提取"
   ]
  },
  {
   "cell_type": "markdown",
   "metadata": {},
   "source": [
    "## 练习"
   ]
  },
  {
   "cell_type": "code",
   "execution_count": 30,
   "metadata": {},
   "outputs": [
    {
     "data": {
      "text/html": [
       "<div>\n",
       "<style scoped>\n",
       "    .dataframe tbody tr th:only-of-type {\n",
       "        vertical-align: middle;\n",
       "    }\n",
       "\n",
       "    .dataframe tbody tr th {\n",
       "        vertical-align: top;\n",
       "    }\n",
       "\n",
       "    .dataframe thead th {\n",
       "        text-align: right;\n",
       "    }\n",
       "</style>\n",
       "<table border=\"1\" class=\"dataframe\">\n",
       "  <thead>\n",
       "    <tr style=\"text-align: right;\">\n",
       "      <th></th>\n",
       "      <th>floor</th>\n",
       "      <th>year</th>\n",
       "      <th>area</th>\n",
       "      <th>price</th>\n",
       "    </tr>\n",
       "  </thead>\n",
       "  <tbody>\n",
       "    <tr>\n",
       "      <th>0</th>\n",
       "      <td>高层（共6层）</td>\n",
       "      <td>1986年建</td>\n",
       "      <td>58.23㎡</td>\n",
       "      <td>155万</td>\n",
       "    </tr>\n",
       "    <tr>\n",
       "      <th>1</th>\n",
       "      <td>中层（共20层）</td>\n",
       "      <td>2020年建</td>\n",
       "      <td>88㎡</td>\n",
       "      <td>155万</td>\n",
       "    </tr>\n",
       "    <tr>\n",
       "      <th>2</th>\n",
       "      <td>低层（共28层）</td>\n",
       "      <td>2010年建</td>\n",
       "      <td>89.33㎡</td>\n",
       "      <td>365万</td>\n",
       "    </tr>\n",
       "    <tr>\n",
       "      <th>3</th>\n",
       "      <td>低层（共20层）</td>\n",
       "      <td>2014年建</td>\n",
       "      <td>82㎡</td>\n",
       "      <td>308万</td>\n",
       "    </tr>\n",
       "    <tr>\n",
       "      <th>4</th>\n",
       "      <td>高层（共1层）</td>\n",
       "      <td>2015年建</td>\n",
       "      <td>98㎡</td>\n",
       "      <td>117万</td>\n",
       "    </tr>\n",
       "  </tbody>\n",
       "</table>\n",
       "</div>"
      ],
      "text/plain": [
       "      floor    year    area price\n",
       "0   高层（共6层）  1986年建  58.23㎡  155万\n",
       "1  中层（共20层）  2020年建     88㎡  155万\n",
       "2  低层（共28层）  2010年建  89.33㎡  365万\n",
       "3  低层（共20层）  2014年建     82㎡  308万\n",
       "4   高层（共1层）  2015年建     98㎡  117万"
      ]
     },
     "execution_count": 30,
     "metadata": {},
     "output_type": "execute_result"
    }
   ],
   "source": [
    "# 房屋信息数据集\n",
    "df = pd.read_excel('house_info.xls', \n",
    "                   usecols=['floor','year','area','price'])\n",
    "df.head()"
   ]
  },
  {
   "cell_type": "code",
   "execution_count": 32,
   "metadata": {},
   "outputs": [
    {
     "data": {
      "text/html": [
       "<div>\n",
       "<style scoped>\n",
       "    .dataframe tbody tr th:only-of-type {\n",
       "        vertical-align: middle;\n",
       "    }\n",
       "\n",
       "    .dataframe tbody tr th {\n",
       "        vertical-align: top;\n",
       "    }\n",
       "\n",
       "    .dataframe thead th {\n",
       "        text-align: right;\n",
       "    }\n",
       "</style>\n",
       "<table border=\"1\" class=\"dataframe\">\n",
       "  <thead>\n",
       "    <tr style=\"text-align: right;\">\n",
       "      <th></th>\n",
       "      <th>floor</th>\n",
       "      <th>year</th>\n",
       "      <th>area</th>\n",
       "      <th>price</th>\n",
       "    </tr>\n",
       "  </thead>\n",
       "  <tbody>\n",
       "    <tr>\n",
       "      <th>0</th>\n",
       "      <td>高层（共6层）</td>\n",
       "      <td>1986</td>\n",
       "      <td>58.23㎡</td>\n",
       "      <td>155万</td>\n",
       "    </tr>\n",
       "    <tr>\n",
       "      <th>1</th>\n",
       "      <td>中层（共20层）</td>\n",
       "      <td>2020</td>\n",
       "      <td>88㎡</td>\n",
       "      <td>155万</td>\n",
       "    </tr>\n",
       "    <tr>\n",
       "      <th>2</th>\n",
       "      <td>低层（共28层）</td>\n",
       "      <td>2010</td>\n",
       "      <td>89.33㎡</td>\n",
       "      <td>365万</td>\n",
       "    </tr>\n",
       "    <tr>\n",
       "      <th>3</th>\n",
       "      <td>低层（共20层）</td>\n",
       "      <td>2014</td>\n",
       "      <td>82㎡</td>\n",
       "      <td>308万</td>\n",
       "    </tr>\n",
       "    <tr>\n",
       "      <th>4</th>\n",
       "      <td>高层（共1层）</td>\n",
       "      <td>2015</td>\n",
       "      <td>98㎡</td>\n",
       "      <td>117万</td>\n",
       "    </tr>\n",
       "  </tbody>\n",
       "</table>\n",
       "</div>"
      ],
      "text/plain": [
       "      floor  year    area price\n",
       "0   高层（共6层）  1986  58.23㎡  155万\n",
       "1  中层（共20层）  2020     88㎡  155万\n",
       "2  低层（共28层）  2010  89.33㎡  365万\n",
       "3  低层（共20层）  2014     82㎡  308万\n",
       "4   高层（共1层）  2015     98㎡  117万"
      ]
     },
     "execution_count": 32,
     "metadata": {},
     "output_type": "execute_result"
    }
   ],
   "source": [
    "# 1. 将year列改成整数年份存储\n",
    "df['year'] = df['year'].str[:4]\n",
    "df.head()"
   ]
  },
  {
   "cell_type": "code",
   "execution_count": 37,
   "metadata": {},
   "outputs": [
    {
     "data": {
      "text/plain": [
       "[('高层', '6')]"
      ]
     },
     "execution_count": 37,
     "metadata": {},
     "output_type": "execute_result"
    }
   ],
   "source": [
    "# 2. 将floor列替换为Level, Highest两列，\n",
    "# 其中的元素分别为string类型的层类别（高层、中层、低层）与整数类型的最高层数。\n",
    "pat = '(?P<Level>\\w层)（共(?P<Highest>\\d+)层）'\n",
    "re.findall(pat, df.floor[0]) # 测试"
   ]
  },
  {
   "cell_type": "code",
   "execution_count": 38,
   "metadata": {},
   "outputs": [
    {
     "data": {
      "text/html": [
       "<div>\n",
       "<style scoped>\n",
       "    .dataframe tbody tr th:only-of-type {\n",
       "        vertical-align: middle;\n",
       "    }\n",
       "\n",
       "    .dataframe tbody tr th {\n",
       "        vertical-align: top;\n",
       "    }\n",
       "\n",
       "    .dataframe thead th {\n",
       "        text-align: right;\n",
       "    }\n",
       "</style>\n",
       "<table border=\"1\" class=\"dataframe\">\n",
       "  <thead>\n",
       "    <tr style=\"text-align: right;\">\n",
       "      <th></th>\n",
       "      <th>Level</th>\n",
       "      <th>Highest</th>\n",
       "    </tr>\n",
       "  </thead>\n",
       "  <tbody>\n",
       "    <tr>\n",
       "      <th>0</th>\n",
       "      <td>高层</td>\n",
       "      <td>6</td>\n",
       "    </tr>\n",
       "    <tr>\n",
       "      <th>1</th>\n",
       "      <td>中层</td>\n",
       "      <td>20</td>\n",
       "    </tr>\n",
       "    <tr>\n",
       "      <th>2</th>\n",
       "      <td>低层</td>\n",
       "      <td>28</td>\n",
       "    </tr>\n",
       "    <tr>\n",
       "      <th>3</th>\n",
       "      <td>低层</td>\n",
       "      <td>20</td>\n",
       "    </tr>\n",
       "    <tr>\n",
       "      <th>4</th>\n",
       "      <td>高层</td>\n",
       "      <td>1</td>\n",
       "    </tr>\n",
       "    <tr>\n",
       "      <th>5</th>\n",
       "      <td>中层</td>\n",
       "      <td>21</td>\n",
       "    </tr>\n",
       "    <tr>\n",
       "      <th>6</th>\n",
       "      <td>低层</td>\n",
       "      <td>14</td>\n",
       "    </tr>\n",
       "    <tr>\n",
       "      <th>7</th>\n",
       "      <td>中层</td>\n",
       "      <td>6</td>\n",
       "    </tr>\n",
       "    <tr>\n",
       "      <th>8</th>\n",
       "      <td>高层</td>\n",
       "      <td>1</td>\n",
       "    </tr>\n",
       "    <tr>\n",
       "      <th>9</th>\n",
       "      <td>低层</td>\n",
       "      <td>33</td>\n",
       "    </tr>\n",
       "  </tbody>\n",
       "</table>\n",
       "</div>"
      ],
      "text/plain": [
       "  Level Highest\n",
       "0    高层       6\n",
       "1    中层      20\n",
       "2    低层      28\n",
       "3    低层      20\n",
       "4    高层       1\n",
       "5    中层      21\n",
       "6    低层      14\n",
       "7    中层       6\n",
       "8    高层       1\n",
       "9    低层      33"
      ]
     },
     "execution_count": 38,
     "metadata": {},
     "output_type": "execute_result"
    }
   ],
   "source": [
    "df['floor'].str.extract(pat).head(10)"
   ]
  },
  {
   "cell_type": "code",
   "execution_count": 39,
   "metadata": {},
   "outputs": [],
   "source": [
    "# 进行数据列连接\n",
    "df = pd.concat([df.drop(columns='floor'), df.floor.str.extract(pat)], axis=1)\n",
    "\n",
    "df.Level = df.Level.astype('string')\n",
    "df.Highest = pd.to_numeric(df.Highest).astype('Int64')"
   ]
  },
  {
   "cell_type": "code",
   "execution_count": 40,
   "metadata": {},
   "outputs": [
    {
     "data": {
      "text/html": [
       "<div>\n",
       "<style scoped>\n",
       "    .dataframe tbody tr th:only-of-type {\n",
       "        vertical-align: middle;\n",
       "    }\n",
       "\n",
       "    .dataframe tbody tr th {\n",
       "        vertical-align: top;\n",
       "    }\n",
       "\n",
       "    .dataframe thead th {\n",
       "        text-align: right;\n",
       "    }\n",
       "</style>\n",
       "<table border=\"1\" class=\"dataframe\">\n",
       "  <thead>\n",
       "    <tr style=\"text-align: right;\">\n",
       "      <th></th>\n",
       "      <th>year</th>\n",
       "      <th>area</th>\n",
       "      <th>price</th>\n",
       "      <th>Level</th>\n",
       "      <th>Highest</th>\n",
       "    </tr>\n",
       "  </thead>\n",
       "  <tbody>\n",
       "    <tr>\n",
       "      <th>0</th>\n",
       "      <td>1986</td>\n",
       "      <td>58.23㎡</td>\n",
       "      <td>155万</td>\n",
       "      <td>高层</td>\n",
       "      <td>6</td>\n",
       "    </tr>\n",
       "    <tr>\n",
       "      <th>1</th>\n",
       "      <td>2020</td>\n",
       "      <td>88㎡</td>\n",
       "      <td>155万</td>\n",
       "      <td>中层</td>\n",
       "      <td>20</td>\n",
       "    </tr>\n",
       "    <tr>\n",
       "      <th>2</th>\n",
       "      <td>2010</td>\n",
       "      <td>89.33㎡</td>\n",
       "      <td>365万</td>\n",
       "      <td>低层</td>\n",
       "      <td>28</td>\n",
       "    </tr>\n",
       "  </tbody>\n",
       "</table>\n",
       "</div>"
      ],
      "text/plain": [
       "   year    area price Level  Highest\n",
       "0  1986  58.23㎡  155万    高层        6\n",
       "1  2020     88㎡  155万    中层       20\n",
       "2  2010  89.33㎡  365万    低层       28"
      ]
     },
     "execution_count": 40,
     "metadata": {},
     "output_type": "execute_result"
    }
   ],
   "source": [
    "df.head(3)"
   ]
  },
  {
   "cell_type": "code",
   "execution_count": 41,
   "metadata": {},
   "outputs": [
    {
     "data": {
      "text/html": [
       "<div>\n",
       "<style scoped>\n",
       "    .dataframe tbody tr th:only-of-type {\n",
       "        vertical-align: middle;\n",
       "    }\n",
       "\n",
       "    .dataframe tbody tr th {\n",
       "        vertical-align: top;\n",
       "    }\n",
       "\n",
       "    .dataframe thead th {\n",
       "        text-align: right;\n",
       "    }\n",
       "</style>\n",
       "<table border=\"1\" class=\"dataframe\">\n",
       "  <thead>\n",
       "    <tr style=\"text-align: right;\">\n",
       "      <th></th>\n",
       "      <th>year</th>\n",
       "      <th>area</th>\n",
       "      <th>price</th>\n",
       "      <th>Level</th>\n",
       "      <th>Highest</th>\n",
       "    </tr>\n",
       "  </thead>\n",
       "  <tbody>\n",
       "    <tr>\n",
       "      <th>0</th>\n",
       "      <td>1986</td>\n",
       "      <td>58.23㎡</td>\n",
       "      <td>155万</td>\n",
       "      <td>高层</td>\n",
       "      <td>6</td>\n",
       "    </tr>\n",
       "    <tr>\n",
       "      <th>1</th>\n",
       "      <td>2020</td>\n",
       "      <td>88㎡</td>\n",
       "      <td>155万</td>\n",
       "      <td>中层</td>\n",
       "      <td>20</td>\n",
       "    </tr>\n",
       "    <tr>\n",
       "      <th>2</th>\n",
       "      <td>2010</td>\n",
       "      <td>89.33㎡</td>\n",
       "      <td>365万</td>\n",
       "      <td>低层</td>\n",
       "      <td>28</td>\n",
       "    </tr>\n",
       "  </tbody>\n",
       "</table>\n",
       "</div>"
      ],
      "text/plain": [
       "   year    area price Level  Highest\n",
       "0  1986  58.23㎡  155万    高层        6\n",
       "1  2020     88㎡  155万    中层       20\n",
       "2  2010  89.33㎡  365万    低层       28"
      ]
     },
     "execution_count": 41,
     "metadata": {},
     "output_type": "execute_result"
    }
   ],
   "source": [
    "# 3. 计算房屋每平米的均价avg_price，以***元/平米的格式存储到表中，其中***为整数。\n",
    "df.head(3)"
   ]
  },
  {
   "cell_type": "code",
   "execution_count": 42,
   "metadata": {},
   "outputs": [
    {
     "name": "stdout",
     "output_type": "stream",
     "text": [
      "0    58.23\n",
      "1    88.00\n",
      "2    89.33\n",
      "Name: area, dtype: float64\n",
      "0    155.0\n",
      "1    155.0\n",
      "2    365.0\n",
      "Name: price, dtype: float64\n"
     ]
    }
   ],
   "source": [
    "area = pd.to_numeric(df.area.str[:-1])\n",
    "price = pd.to_numeric(df.price.str[:-1])\n",
    "print(area[:3])\n",
    "print(price[:3])"
   ]
  },
  {
   "cell_type": "code",
   "execution_count": 44,
   "metadata": {},
   "outputs": [
    {
     "data": {
      "text/html": [
       "<div>\n",
       "<style scoped>\n",
       "    .dataframe tbody tr th:only-of-type {\n",
       "        vertical-align: middle;\n",
       "    }\n",
       "\n",
       "    .dataframe tbody tr th {\n",
       "        vertical-align: top;\n",
       "    }\n",
       "\n",
       "    .dataframe thead th {\n",
       "        text-align: right;\n",
       "    }\n",
       "</style>\n",
       "<table border=\"1\" class=\"dataframe\">\n",
       "  <thead>\n",
       "    <tr style=\"text-align: right;\">\n",
       "      <th></th>\n",
       "      <th>year</th>\n",
       "      <th>area</th>\n",
       "      <th>price</th>\n",
       "      <th>Level</th>\n",
       "      <th>Highest</th>\n",
       "      <th>avg_price</th>\n",
       "    </tr>\n",
       "  </thead>\n",
       "  <tbody>\n",
       "    <tr>\n",
       "      <th>0</th>\n",
       "      <td>1986</td>\n",
       "      <td>58.23㎡</td>\n",
       "      <td>155万</td>\n",
       "      <td>高层</td>\n",
       "      <td>6</td>\n",
       "      <td>26618.58元/平米</td>\n",
       "    </tr>\n",
       "    <tr>\n",
       "      <th>1</th>\n",
       "      <td>2020</td>\n",
       "      <td>88㎡</td>\n",
       "      <td>155万</td>\n",
       "      <td>中层</td>\n",
       "      <td>20</td>\n",
       "      <td>17613.64元/平米</td>\n",
       "    </tr>\n",
       "    <tr>\n",
       "      <th>2</th>\n",
       "      <td>2010</td>\n",
       "      <td>89.33㎡</td>\n",
       "      <td>365万</td>\n",
       "      <td>低层</td>\n",
       "      <td>28</td>\n",
       "      <td>40859.73元/平米</td>\n",
       "    </tr>\n",
       "    <tr>\n",
       "      <th>3</th>\n",
       "      <td>2014</td>\n",
       "      <td>82㎡</td>\n",
       "      <td>308万</td>\n",
       "      <td>低层</td>\n",
       "      <td>20</td>\n",
       "      <td>37560.98元/平米</td>\n",
       "    </tr>\n",
       "    <tr>\n",
       "      <th>4</th>\n",
       "      <td>2015</td>\n",
       "      <td>98㎡</td>\n",
       "      <td>117万</td>\n",
       "      <td>高层</td>\n",
       "      <td>1</td>\n",
       "      <td>11938.78元/平米</td>\n",
       "    </tr>\n",
       "  </tbody>\n",
       "</table>\n",
       "</div>"
      ],
      "text/plain": [
       "   year    area price Level  Highest     avg_price\n",
       "0  1986  58.23㎡  155万    高层        6  26618.58元/平米\n",
       "1  2020     88㎡  155万    中层       20  17613.64元/平米\n",
       "2  2010  89.33㎡  365万    低层       28  40859.73元/平米\n",
       "3  2014     82㎡  308万    低层       20  37560.98元/平米\n",
       "4  2015     98㎡  117万    高层        1  11938.78元/平米"
      ]
     },
     "execution_count": 44,
     "metadata": {},
     "output_type": "execute_result"
    }
   ],
   "source": [
    "df['avg_price'] = (round(price * 10000 / area, 2)).astype('string') + '元/平米'\n",
    "df.head()"
   ]
  },
  {
   "cell_type": "markdown",
   "metadata": {},
   "source": [
    "### Ex2：《权力的游戏》剧本数据集"
   ]
  },
  {
   "cell_type": "code",
   "execution_count": 45,
   "metadata": {},
   "outputs": [
    {
     "data": {
      "text/html": [
       "<div>\n",
       "<style scoped>\n",
       "    .dataframe tbody tr th:only-of-type {\n",
       "        vertical-align: middle;\n",
       "    }\n",
       "\n",
       "    .dataframe tbody tr th {\n",
       "        vertical-align: top;\n",
       "    }\n",
       "\n",
       "    .dataframe thead th {\n",
       "        text-align: right;\n",
       "    }\n",
       "</style>\n",
       "<table border=\"1\" class=\"dataframe\">\n",
       "  <thead>\n",
       "    <tr style=\"text-align: right;\">\n",
       "      <th></th>\n",
       "      <th>Release Date</th>\n",
       "      <th>Season</th>\n",
       "      <th>Episode</th>\n",
       "      <th>Episode Title</th>\n",
       "      <th>Name</th>\n",
       "      <th>Sentence</th>\n",
       "    </tr>\n",
       "  </thead>\n",
       "  <tbody>\n",
       "    <tr>\n",
       "      <th>0</th>\n",
       "      <td>2011-04-17</td>\n",
       "      <td>Season 1</td>\n",
       "      <td>Episode 1</td>\n",
       "      <td>Winter is Coming</td>\n",
       "      <td>waymar royce</td>\n",
       "      <td>What do you expect? They're savages. One lot s...</td>\n",
       "    </tr>\n",
       "    <tr>\n",
       "      <th>1</th>\n",
       "      <td>2011-04-17</td>\n",
       "      <td>Season 1</td>\n",
       "      <td>Episode 1</td>\n",
       "      <td>Winter is Coming</td>\n",
       "      <td>will</td>\n",
       "      <td>I've never seen wildlings do a thing like this...</td>\n",
       "    </tr>\n",
       "    <tr>\n",
       "      <th>2</th>\n",
       "      <td>2011-04-17</td>\n",
       "      <td>Season 1</td>\n",
       "      <td>Episode 1</td>\n",
       "      <td>Winter is Coming</td>\n",
       "      <td>waymar royce</td>\n",
       "      <td>How close did you get?</td>\n",
       "    </tr>\n",
       "    <tr>\n",
       "      <th>3</th>\n",
       "      <td>2011-04-17</td>\n",
       "      <td>Season 1</td>\n",
       "      <td>Episode 1</td>\n",
       "      <td>Winter is Coming</td>\n",
       "      <td>will</td>\n",
       "      <td>Close as any man would.</td>\n",
       "    </tr>\n",
       "    <tr>\n",
       "      <th>4</th>\n",
       "      <td>2011-04-17</td>\n",
       "      <td>Season 1</td>\n",
       "      <td>Episode 1</td>\n",
       "      <td>Winter is Coming</td>\n",
       "      <td>gared</td>\n",
       "      <td>We should head back to the wall.</td>\n",
       "    </tr>\n",
       "  </tbody>\n",
       "</table>\n",
       "</div>"
      ],
      "text/plain": [
       "  Release Date    Season   Episode      Episode Title          Name  \\\n",
       "0   2011-04-17  Season 1  Episode 1  Winter is Coming  waymar royce   \n",
       "1   2011-04-17  Season 1  Episode 1  Winter is Coming          will   \n",
       "2   2011-04-17  Season 1  Episode 1  Winter is Coming  waymar royce   \n",
       "3   2011-04-17  Season 1  Episode 1  Winter is Coming          will   \n",
       "4   2011-04-17  Season 1  Episode 1  Winter is Coming         gared   \n",
       "\n",
       "                                            Sentence  \n",
       "0  What do you expect? They're savages. One lot s...  \n",
       "1  I've never seen wildlings do a thing like this...  \n",
       "2                             How close did you get?  \n",
       "3                            Close as any man would.  \n",
       "4                   We should head back to the wall.  "
      ]
     },
     "execution_count": 45,
     "metadata": {},
     "output_type": "execute_result"
    }
   ],
   "source": [
    "# 现有一份权力的游戏剧本数据集如下：\n",
    "df = pd.read_csv('script.csv')\n",
    "df.head()"
   ]
  },
  {
   "cell_type": "code",
   "execution_count": 49,
   "metadata": {},
   "outputs": [
    {
     "name": "stdout",
     "output_type": "stream",
     "text": [
      "<class 'pandas.core.frame.DataFrame'>\n",
      "RangeIndex: 23911 entries, 0 to 23910\n",
      "Data columns (total 6 columns):\n",
      " #   Column         Non-Null Count  Dtype \n",
      "---  ------         --------------  ----- \n",
      " 0   Release Date   23911 non-null  object\n",
      " 1    Season        23911 non-null  object\n",
      " 2   Episode        23911 non-null  object\n",
      " 3   Episode Title  23911 non-null  object\n",
      " 4   Name           23908 non-null  object\n",
      " 5   Sentence       23911 non-null  object\n",
      "dtypes: object(6)\n",
      "memory usage: 1.1+ MB\n"
     ]
    }
   ],
   "source": [
    "# 1. 计算每一个Episode的台词条数\n",
    "df.info()"
   ]
  },
  {
   "cell_type": "code",
   "execution_count": 51,
   "metadata": {},
   "outputs": [
    {
     "data": {
      "text/plain": [
       "Index(['Release Date', ' Season', 'Episode ', 'Episode Title', 'Name',\n",
       "       'Sentence'],\n",
       "      dtype='object')"
      ]
     },
     "execution_count": 51,
     "metadata": {},
     "output_type": "execute_result"
    }
   ],
   "source": [
    "df.columns"
   ]
  },
  {
   "cell_type": "code",
   "execution_count": 50,
   "metadata": {},
   "outputs": [
    {
     "data": {
      "text/plain": [
       "Season 2    3914\n",
       "Season 3    3573\n",
       "Season 4    3446\n",
       "Season 1    3179\n",
       "Season 5    3035\n",
       "Season 6    2856\n",
       "Season 7    2442\n",
       "Season 8    1466\n",
       "Name:  Season, dtype: int64"
      ]
     },
     "execution_count": 50,
     "metadata": {},
     "output_type": "execute_result"
    }
   ],
   "source": [
    "df[' Season'].value_counts()"
   ]
  },
  {
   "cell_type": "code",
   "execution_count": 52,
   "metadata": {},
   "outputs": [
    {
     "data": {
      "text/plain": [
       "Episode 5     3083\n",
       "Episode 2     2957\n",
       "Episode 3     2648\n",
       "Episode 1     2637\n",
       "Episode 7     2447\n",
       "Episode 6     2380\n",
       "Episode 4     2356\n",
       "Episode 8     1880\n",
       "Episode 10    1846\n",
       "Episode 9     1677\n",
       "Name: Episode , dtype: int64"
      ]
     },
     "execution_count": 52,
     "metadata": {},
     "output_type": "execute_result"
    }
   ],
   "source": [
    "df['Episode '].value_counts()"
   ]
  },
  {
   "cell_type": "code",
   "execution_count": 53,
   "metadata": {},
   "outputs": [
    {
     "data": {
      "text/plain": [
       " Season   Episode   \n",
       "Season 1  Episode 1     327\n",
       "          Episode 10    266\n",
       "          Episode 2     283\n",
       "          Episode 3     353\n",
       "          Episode 4     404\n",
       "                       ... \n",
       "Season 8  Episode 2     405\n",
       "          Episode 3     155\n",
       "          Episode 4      51\n",
       "          Episode 5     308\n",
       "          Episode 6     240\n",
       "Name: Sentence, Length: 73, dtype: int64"
      ]
     },
     "execution_count": 53,
     "metadata": {},
     "output_type": "execute_result"
    }
   ],
   "source": [
    "df.groupby([' Season', 'Episode '])['Sentence'].count()"
   ]
  },
  {
   "cell_type": "code",
   "execution_count": 54,
   "metadata": {},
   "outputs": [
    {
     "data": {
      "text/plain": [
       "['male singer',\n",
       " 'slave owner',\n",
       " 'manderly',\n",
       " 'lollys stokeworth',\n",
       " 'dothraki matron']"
      ]
     },
     "execution_count": 54,
     "metadata": {},
     "output_type": "execute_result"
    }
   ],
   "source": [
    "# 2. 以空格为单词的分割符号，请求出单句台词平均单词量最多的前五个人。\n",
    "words_count = df.set_index('Name')['Sentence'].str.split(' ').str.len().groupby('Name').mean()\n",
    "words_count.sort_values(ascending=False)[:5].index.tolist()"
   ]
  },
  {
   "cell_type": "code",
   "execution_count": null,
   "metadata": {},
   "outputs": [],
   "source": []
  }
 ],
 "metadata": {
  "kernelspec": {
   "display_name": "Python 3",
   "language": "python",
   "name": "python3"
  },
  "language_info": {
   "codemirror_mode": {
    "name": "ipython",
    "version": 3
   },
   "file_extension": ".py",
   "mimetype": "text/x-python",
   "name": "python",
   "nbconvert_exporter": "python",
   "pygments_lexer": "ipython3",
   "version": "3.8.3"
  }
 },
 "nbformat": 4,
 "nbformat_minor": 4
}
